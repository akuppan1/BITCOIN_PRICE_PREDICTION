{
 "cells": [
  {
   "cell_type": "code",
   "execution_count": 2,
   "metadata": {},
   "outputs": [
    {
     "name": "stdout",
     "output_type": "stream",
     "text": [
      "Collecting neuralprophet\n",
      "  Downloading neuralprophet-0.3.2-py3-none-any.whl (74 kB)\n",
      "Requirement already satisfied: numpy>=1.15.4 in c:\\users\\booos\\anaconda3\\envs\\learn-env\\lib\\site-packages (from neuralprophet) (1.18.5)\n",
      "Requirement already satisfied: tqdm>=4.50.2 in c:\\users\\booos\\anaconda3\\envs\\learn-env\\lib\\site-packages (from neuralprophet) (4.50.2)\n",
      "Requirement already satisfied: convertdate>=2.1.2 in c:\\users\\booos\\anaconda3\\envs\\learn-env\\lib\\site-packages (from neuralprophet) (2.2.2)\n",
      "Requirement already satisfied: pandas>=1.0.4 in c:\\users\\booos\\anaconda3\\envs\\learn-env\\lib\\site-packages (from neuralprophet) (1.1.3)\n",
      "Requirement already satisfied: matplotlib>=2.0.0 in c:\\users\\booos\\anaconda3\\envs\\learn-env\\lib\\site-packages (from neuralprophet) (3.3.1)\n",
      "Requirement already satisfied: LunarCalendar>=0.0.9 in c:\\users\\booos\\anaconda3\\envs\\learn-env\\lib\\site-packages (from neuralprophet) (0.0.9)\n",
      "Requirement already satisfied: python-dateutil>=2.8.0 in c:\\users\\booos\\anaconda3\\envs\\learn-env\\lib\\site-packages (from neuralprophet) (2.8.1)\n",
      "Collecting holidays>=0.11.3.1"
     ]
    },
    {
     "name": "stderr",
     "output_type": "stream",
     "text": [
      "ERROR: After October 2020 you may experience errors when installing or updating packages. This is because pip will change the way that it resolves dependency conflicts.\n",
      "\n",
      "We recommend you use --use-feature=2020-resolver to test your packages with the new resolver before it becomes the default.\n",
      "\n",
      "holidays 0.14.2 requires convertdate>=2.3.0, but you'll have convertdate 2.2.2 which is incompatible.\n"
     ]
    },
    {
     "name": "stdout",
     "output_type": "stream",
     "text": [
      "\n",
      "  Downloading holidays-0.14.2-py3-none-any.whl (179 kB)\n",
      "Collecting dataclasses>=0.6\n",
      "  Downloading dataclasses-0.6-py3-none-any.whl (14 kB)\n",
      "Requirement already satisfied: torch>=1.4.0 in c:\\users\\booos\\anaconda3\\envs\\learn-env\\lib\\site-packages (from neuralprophet) (1.11.0)\n",
      "Collecting torch-lr-finder>=0.2.1\n",
      "  Downloading torch_lr_finder-0.2.1-py3-none-any.whl (11 kB)\n",
      "Requirement already satisfied: ipywidgets>=7.5.1 in c:\\users\\booos\\anaconda3\\envs\\learn-env\\lib\\site-packages (from neuralprophet) (7.5.1)\n",
      "Requirement already satisfied: pymeeus<=1,>=0.3.6 in c:\\users\\booos\\anaconda3\\envs\\learn-env\\lib\\site-packages (from convertdate>=2.1.2->neuralprophet) (0.3.7)\n",
      "Requirement already satisfied: pytz>=2014.10 in c:\\users\\booos\\anaconda3\\envs\\learn-env\\lib\\site-packages (from convertdate>=2.1.2->neuralprophet) (2020.1)\n",
      "Requirement already satisfied: kiwisolver>=1.0.1 in c:\\users\\booos\\anaconda3\\envs\\learn-env\\lib\\site-packages (from matplotlib>=2.0.0->neuralprophet) (1.2.0)\n",
      "Requirement already satisfied: cycler>=0.10 in c:\\users\\booos\\anaconda3\\envs\\learn-env\\lib\\site-packages (from matplotlib>=2.0.0->neuralprophet) (0.10.0)\n",
      "Requirement already satisfied: certifi>=2020.06.20 in c:\\users\\booos\\anaconda3\\envs\\learn-env\\lib\\site-packages (from matplotlib>=2.0.0->neuralprophet) (2020.6.20)\n",
      "Requirement already satisfied: pyparsing!=2.0.4,!=2.1.2,!=2.1.6,>=2.0.3 in c:\\users\\booos\\anaconda3\\envs\\learn-env\\lib\\site-packages (from matplotlib>=2.0.0->neuralprophet) (2.4.7)\n",
      "Requirement already satisfied: pillow>=6.2.0 in c:\\users\\booos\\anaconda3\\envs\\learn-env\\lib\\site-packages (from matplotlib>=2.0.0->neuralprophet) (8.0.0)\n",
      "Requirement already satisfied: ephem>=3.7.5.3 in c:\\users\\booos\\anaconda3\\envs\\learn-env\\lib\\site-packages (from LunarCalendar>=0.0.9->neuralprophet) (3.7.7.1)\n",
      "Requirement already satisfied: six>=1.5 in c:\\users\\booos\\anaconda3\\envs\\learn-env\\lib\\site-packages (from python-dateutil>=2.8.0->neuralprophet) (1.15.0)\n",
      "Collecting hijri-converter\n",
      "  Downloading hijri_converter-2.2.4-py3-none-any.whl (14 kB)\n",
      "Requirement already satisfied: korean-lunar-calendar in c:\\users\\booos\\anaconda3\\envs\\learn-env\\lib\\site-packages (from holidays>=0.11.3.1->neuralprophet) (0.2.1)\n",
      "Requirement already satisfied: typing-extensions in c:\\users\\booos\\anaconda3\\envs\\learn-env\\lib\\site-packages (from torch>=1.4.0->neuralprophet) (4.1.1)\n",
      "Requirement already satisfied: packaging in c:\\users\\booos\\anaconda3\\envs\\learn-env\\lib\\site-packages (from torch-lr-finder>=0.2.1->neuralprophet) (20.4)\n",
      "Requirement already satisfied: traitlets>=4.3.1 in c:\\users\\booos\\anaconda3\\envs\\learn-env\\lib\\site-packages (from ipywidgets>=7.5.1->neuralprophet) (5.0.5)\n",
      "Requirement already satisfied: ipykernel>=4.5.1 in c:\\users\\booos\\anaconda3\\envs\\learn-env\\lib\\site-packages (from ipywidgets>=7.5.1->neuralprophet) (5.3.4)\n",
      "Requirement already satisfied: ipython>=4.0.0; python_version >= \"3.3\" in c:\\users\\booos\\anaconda3\\envs\\learn-env\\lib\\site-packages (from ipywidgets>=7.5.1->neuralprophet) (7.18.1)\n",
      "Requirement already satisfied: widgetsnbextension~=3.5.0 in c:\\users\\booos\\anaconda3\\envs\\learn-env\\lib\\site-packages (from ipywidgets>=7.5.1->neuralprophet) (3.5.1)\n",
      "Requirement already satisfied: nbformat>=4.2.0 in c:\\users\\booos\\anaconda3\\envs\\learn-env\\lib\\site-packages (from ipywidgets>=7.5.1->neuralprophet) (5.0.8)\n",
      "Requirement already satisfied: ipython-genutils in c:\\users\\booos\\anaconda3\\envs\\learn-env\\lib\\site-packages (from traitlets>=4.3.1->ipywidgets>=7.5.1->neuralprophet) (0.2.0)\n",
      "Requirement already satisfied: tornado>=4.2 in c:\\users\\booos\\anaconda3\\envs\\learn-env\\lib\\site-packages (from ipykernel>=4.5.1->ipywidgets>=7.5.1->neuralprophet) (6.0.4)\n",
      "Requirement already satisfied: jupyter-client in c:\\users\\booos\\anaconda3\\envs\\learn-env\\lib\\site-packages (from ipykernel>=4.5.1->ipywidgets>=7.5.1->neuralprophet) (6.1.7)\n",
      "Requirement already satisfied: setuptools>=18.5 in c:\\users\\booos\\anaconda3\\envs\\learn-env\\lib\\site-packages (from ipython>=4.0.0; python_version >= \"3.3\"->ipywidgets>=7.5.1->neuralprophet) (50.3.0.post20201103)\n",
      "Requirement already satisfied: pickleshare in c:\\users\\booos\\anaconda3\\envs\\learn-env\\lib\\site-packages (from ipython>=4.0.0; python_version >= \"3.3\"->ipywidgets>=7.5.1->neuralprophet) (0.7.5)\n",
      "Requirement already satisfied: colorama; sys_platform == \"win32\" in c:\\users\\booos\\anaconda3\\envs\\learn-env\\lib\\site-packages (from ipython>=4.0.0; python_version >= \"3.3\"->ipywidgets>=7.5.1->neuralprophet) (0.4.3)\n",
      "Requirement already satisfied: backcall in c:\\users\\booos\\anaconda3\\envs\\learn-env\\lib\\site-packages (from ipython>=4.0.0; python_version >= \"3.3\"->ipywidgets>=7.5.1->neuralprophet) (0.2.0)\n",
      "Requirement already satisfied: pygments in c:\\users\\booos\\anaconda3\\envs\\learn-env\\lib\\site-packages (from ipython>=4.0.0; python_version >= \"3.3\"->ipywidgets>=7.5.1->neuralprophet) (2.7.1)\n",
      "Requirement already satisfied: jedi>=0.10 in c:\\users\\booos\\anaconda3\\envs\\learn-env\\lib\\site-packages (from ipython>=4.0.0; python_version >= \"3.3\"->ipywidgets>=7.5.1->neuralprophet) (0.17.2)\n",
      "Requirement already satisfied: decorator in c:\\users\\booos\\anaconda3\\envs\\learn-env\\lib\\site-packages (from ipython>=4.0.0; python_version >= \"3.3\"->ipywidgets>=7.5.1->neuralprophet) (4.4.2)\n",
      "Requirement already satisfied: prompt-toolkit!=3.0.0,!=3.0.1,<3.1.0,>=2.0.0 in c:\\users\\booos\\anaconda3\\envs\\learn-env\\lib\\site-packages (from ipython>=4.0.0; python_version >= \"3.3\"->ipywidgets>=7.5.1->neuralprophet) (3.0.8)\n",
      "Requirement already satisfied: notebook>=4.4.1 in c:\\users\\booos\\anaconda3\\envs\\learn-env\\lib\\site-packages (from widgetsnbextension~=3.5.0->ipywidgets>=7.5.1->neuralprophet) (6.1.4)\n",
      "Requirement already satisfied: jupyter-core in c:\\users\\booos\\anaconda3\\envs\\learn-env\\lib\\site-packages (from nbformat>=4.2.0->ipywidgets>=7.5.1->neuralprophet) (4.6.3)\n",
      "Requirement already satisfied: jsonschema!=2.5.0,>=2.4 in c:\\users\\booos\\anaconda3\\envs\\learn-env\\lib\\site-packages (from nbformat>=4.2.0->ipywidgets>=7.5.1->neuralprophet) (3.2.0)\n",
      "Requirement already satisfied: pyzmq>=13 in c:\\users\\booos\\anaconda3\\envs\\learn-env\\lib\\site-packages (from jupyter-client->ipykernel>=4.5.1->ipywidgets>=7.5.1->neuralprophet) (19.0.2)\n",
      "Requirement already satisfied: parso<0.8.0,>=0.7.0 in c:\\users\\booos\\anaconda3\\envs\\learn-env\\lib\\site-packages (from jedi>=0.10->ipython>=4.0.0; python_version >= \"3.3\"->ipywidgets>=7.5.1->neuralprophet) (0.7.0)\n",
      "Requirement already satisfied: wcwidth in c:\\users\\booos\\anaconda3\\envs\\learn-env\\lib\\site-packages (from prompt-toolkit!=3.0.0,!=3.0.1,<3.1.0,>=2.0.0->ipython>=4.0.0; python_version >= \"3.3\"->ipywidgets>=7.5.1->neuralprophet) (0.2.5)\n",
      "Requirement already satisfied: terminado>=0.8.3 in c:\\users\\booos\\anaconda3\\envs\\learn-env\\lib\\site-packages (from notebook>=4.4.1->widgetsnbextension~=3.5.0->ipywidgets>=7.5.1->neuralprophet) (0.9.1)\n",
      "Requirement already satisfied: Send2Trash in c:\\users\\booos\\anaconda3\\envs\\learn-env\\lib\\site-packages (from notebook>=4.4.1->widgetsnbextension~=3.5.0->ipywidgets>=7.5.1->neuralprophet) (1.5.0)\n",
      "Requirement already satisfied: nbconvert in c:\\users\\booos\\anaconda3\\envs\\learn-env\\lib\\site-packages (from notebook>=4.4.1->widgetsnbextension~=3.5.0->ipywidgets>=7.5.1->neuralprophet) (6.0.7)\n",
      "Requirement already satisfied: prometheus-client in c:\\users\\booos\\anaconda3\\envs\\learn-env\\lib\\site-packages (from notebook>=4.4.1->widgetsnbextension~=3.5.0->ipywidgets>=7.5.1->neuralprophet) (0.8.0)\n",
      "Requirement already satisfied: argon2-cffi in c:\\users\\booos\\anaconda3\\envs\\learn-env\\lib\\site-packages (from notebook>=4.4.1->widgetsnbextension~=3.5.0->ipywidgets>=7.5.1->neuralprophet) (20.1.0)\n",
      "Requirement already satisfied: jinja2 in c:\\users\\booos\\anaconda3\\envs\\learn-env\\lib\\site-packages (from notebook>=4.4.1->widgetsnbextension~=3.5.0->ipywidgets>=7.5.1->neuralprophet) (2.11.2)\n",
      "Requirement already satisfied: pywin32>=1.0; sys_platform == \"win32\" in c:\\users\\booos\\anaconda3\\envs\\learn-env\\lib\\site-packages (from jupyter-core->nbformat>=4.2.0->ipywidgets>=7.5.1->neuralprophet) (227)\n",
      "Requirement already satisfied: attrs>=17.4.0 in c:\\users\\booos\\anaconda3\\envs\\learn-env\\lib\\site-packages (from jsonschema!=2.5.0,>=2.4->nbformat>=4.2.0->ipywidgets>=7.5.1->neuralprophet) (20.2.0)\n",
      "Requirement already satisfied: pyrsistent>=0.14.0 in c:\\users\\booos\\anaconda3\\envs\\learn-env\\lib\\site-packages (from jsonschema!=2.5.0,>=2.4->nbformat>=4.2.0->ipywidgets>=7.5.1->neuralprophet) (0.17.3)\n",
      "Requirement already satisfied: pywinpty>=0.5; os_name == \"nt\" in c:\\users\\booos\\anaconda3\\envs\\learn-env\\lib\\site-packages (from terminado>=0.8.3->notebook>=4.4.1->widgetsnbextension~=3.5.0->ipywidgets>=7.5.1->neuralprophet) (0.5.7)\n",
      "Requirement already satisfied: bleach in c:\\users\\booos\\anaconda3\\envs\\learn-env\\lib\\site-packages (from nbconvert->notebook>=4.4.1->widgetsnbextension~=3.5.0->ipywidgets>=7.5.1->neuralprophet) (3.2.1)\n",
      "Requirement already satisfied: mistune<2,>=0.8.1 in c:\\users\\booos\\anaconda3\\envs\\learn-env\\lib\\site-packages (from nbconvert->notebook>=4.4.1->widgetsnbextension~=3.5.0->ipywidgets>=7.5.1->neuralprophet) (0.8.4)\n",
      "Requirement already satisfied: pandocfilters>=1.4.1 in c:\\users\\booos\\anaconda3\\envs\\learn-env\\lib\\site-packages (from nbconvert->notebook>=4.4.1->widgetsnbextension~=3.5.0->ipywidgets>=7.5.1->neuralprophet) (1.4.2)\n",
      "Requirement already satisfied: jupyterlab-pygments in c:\\users\\booos\\anaconda3\\envs\\learn-env\\lib\\site-packages (from nbconvert->notebook>=4.4.1->widgetsnbextension~=3.5.0->ipywidgets>=7.5.1->neuralprophet) (0.1.2)\n",
      "Requirement already satisfied: testpath in c:\\users\\booos\\anaconda3\\envs\\learn-env\\lib\\site-packages (from nbconvert->notebook>=4.4.1->widgetsnbextension~=3.5.0->ipywidgets>=7.5.1->neuralprophet) (0.4.4)\n",
      "Requirement already satisfied: defusedxml in c:\\users\\booos\\anaconda3\\envs\\learn-env\\lib\\site-packages (from nbconvert->notebook>=4.4.1->widgetsnbextension~=3.5.0->ipywidgets>=7.5.1->neuralprophet) (0.6.0)\n",
      "Requirement already satisfied: entrypoints>=0.2.2 in c:\\users\\booos\\anaconda3\\envs\\learn-env\\lib\\site-packages (from nbconvert->notebook>=4.4.1->widgetsnbextension~=3.5.0->ipywidgets>=7.5.1->neuralprophet) (0.3)\n",
      "Requirement already satisfied: nbclient<0.6.0,>=0.5.0 in c:\\users\\booos\\anaconda3\\envs\\learn-env\\lib\\site-packages (from nbconvert->notebook>=4.4.1->widgetsnbextension~=3.5.0->ipywidgets>=7.5.1->neuralprophet) (0.5.1)\n",
      "Requirement already satisfied: cffi>=1.0.0 in c:\\users\\booos\\anaconda3\\envs\\learn-env\\lib\\site-packages (from argon2-cffi->notebook>=4.4.1->widgetsnbextension~=3.5.0->ipywidgets>=7.5.1->neuralprophet) (1.14.3)\n",
      "Requirement already satisfied: MarkupSafe>=0.23 in c:\\users\\booos\\anaconda3\\envs\\learn-env\\lib\\site-packages (from jinja2->notebook>=4.4.1->widgetsnbextension~=3.5.0->ipywidgets>=7.5.1->neuralprophet) (1.1.1)\n",
      "Requirement already satisfied: webencodings in c:\\users\\booos\\anaconda3\\envs\\learn-env\\lib\\site-packages (from bleach->nbconvert->notebook>=4.4.1->widgetsnbextension~=3.5.0->ipywidgets>=7.5.1->neuralprophet) (0.5.1)\n",
      "Requirement already satisfied: async-generator in c:\\users\\booos\\anaconda3\\envs\\learn-env\\lib\\site-packages (from nbclient<0.6.0,>=0.5.0->nbconvert->notebook>=4.4.1->widgetsnbextension~=3.5.0->ipywidgets>=7.5.1->neuralprophet) (1.10)\n",
      "Requirement already satisfied: nest-asyncio in c:\\users\\booos\\anaconda3\\envs\\learn-env\\lib\\site-packages (from nbclient<0.6.0,>=0.5.0->nbconvert->notebook>=4.4.1->widgetsnbextension~=3.5.0->ipywidgets>=7.5.1->neuralprophet) (1.4.1)\n",
      "Requirement already satisfied: pycparser in c:\\users\\booos\\anaconda3\\envs\\learn-env\\lib\\site-packages (from cffi>=1.0.0->argon2-cffi->notebook>=4.4.1->widgetsnbextension~=3.5.0->ipywidgets>=7.5.1->neuralprophet) (2.20)\n",
      "Installing collected packages: hijri-converter, holidays, dataclasses, torch-lr-finder, neuralprophet\n",
      "  Attempting uninstall: holidays\n",
      "    Found existing installation: holidays 0.10.3\n",
      "    Uninstalling holidays-0.10.3:\n",
      "      Successfully uninstalled holidays-0.10.3\n",
      "Successfully installed dataclasses-0.6 hijri-converter-2.2.4 holidays-0.14.2 neuralprophet-0.3.2 torch-lr-finder-0.2.1\n"
     ]
    }
   ],
   "source": [
    "!pip install neuralprophet"
   ]
  },
  {
   "cell_type": "code",
   "execution_count": 3,
   "metadata": {},
   "outputs": [
    {
     "ename": "ImportError",
     "evalue": "cannot import name 'lag_baomer' from 'convertdate.holidays' (C:\\Users\\booos\\anaconda3\\envs\\learn-env\\lib\\site-packages\\convertdate\\holidays.py)",
     "output_type": "error",
     "traceback": [
      "\u001b[1;31m---------------------------------------------------------------------------\u001b[0m",
      "\u001b[1;31mImportError\u001b[0m                               Traceback (most recent call last)",
      "\u001b[1;32m<ipython-input-3-8d9996e297eb>\u001b[0m in \u001b[0;36m<module>\u001b[1;34m\u001b[0m\n\u001b[0;32m      1\u001b[0m \u001b[1;32mimport\u001b[0m \u001b[0mpandas\u001b[0m \u001b[1;32mas\u001b[0m \u001b[0mpd\u001b[0m\u001b[1;33m\u001b[0m\u001b[1;33m\u001b[0m\u001b[0m\n\u001b[1;32m----> 2\u001b[1;33m \u001b[1;32mfrom\u001b[0m \u001b[0mneuralprophet\u001b[0m \u001b[1;32mimport\u001b[0m \u001b[0mNeuralProphet\u001b[0m\u001b[1;33m\u001b[0m\u001b[1;33m\u001b[0m\u001b[0m\n\u001b[0m",
      "\u001b[1;32m~\\anaconda3\\envs\\learn-env\\lib\\site-packages\\neuralprophet\\__init__.py\u001b[0m in \u001b[0;36m<module>\u001b[1;34m\u001b[0m\n\u001b[0;32m     23\u001b[0m     \u001b[0mwarnings_log\u001b[0m\u001b[1;33m.\u001b[0m\u001b[0maddHandler\u001b[0m\u001b[1;33m(\u001b[0m\u001b[0mf_handler\u001b[0m\u001b[1;33m)\u001b[0m\u001b[1;33m\u001b[0m\u001b[1;33m\u001b[0m\u001b[0m\n\u001b[0;32m     24\u001b[0m \u001b[1;33m\u001b[0m\u001b[0m\n\u001b[1;32m---> 25\u001b[1;33m \u001b[1;32mfrom\u001b[0m \u001b[1;33m.\u001b[0m\u001b[0mforecaster\u001b[0m \u001b[1;32mimport\u001b[0m \u001b[0mNeuralProphet\u001b[0m\u001b[1;33m\u001b[0m\u001b[1;33m\u001b[0m\u001b[0m\n\u001b[0m\u001b[0;32m     26\u001b[0m \u001b[1;32mfrom\u001b[0m \u001b[1;33m.\u001b[0m\u001b[0mutils\u001b[0m \u001b[1;32mimport\u001b[0m \u001b[0mset_random_seed\u001b[0m\u001b[1;33m,\u001b[0m \u001b[0mset_log_level\u001b[0m\u001b[1;33m\u001b[0m\u001b[1;33m\u001b[0m\u001b[0m\n\u001b[0;32m     27\u001b[0m \u001b[1;32mfrom\u001b[0m \u001b[1;33m.\u001b[0m\u001b[0mdf_utils\u001b[0m \u001b[1;32mimport\u001b[0m \u001b[0msplit_df\u001b[0m\u001b[1;33m\u001b[0m\u001b[1;33m\u001b[0m\u001b[0m\n",
      "\u001b[1;32m~\\anaconda3\\envs\\learn-env\\lib\\site-packages\\neuralprophet\\forecaster.py\u001b[0m in \u001b[0;36m<module>\u001b[1;34m\u001b[0m\n\u001b[0;32m      9\u001b[0m \u001b[1;32mfrom\u001b[0m \u001b[0mtqdm\u001b[0m \u001b[1;32mimport\u001b[0m \u001b[0mtqdm\u001b[0m\u001b[1;33m\u001b[0m\u001b[1;33m\u001b[0m\u001b[0m\n\u001b[0;32m     10\u001b[0m \u001b[1;33m\u001b[0m\u001b[0m\n\u001b[1;32m---> 11\u001b[1;33m \u001b[1;32mfrom\u001b[0m \u001b[0mneuralprophet\u001b[0m \u001b[1;32mimport\u001b[0m \u001b[0mconfigure\u001b[0m\u001b[1;33m\u001b[0m\u001b[1;33m\u001b[0m\u001b[0m\n\u001b[0m\u001b[0;32m     12\u001b[0m \u001b[1;32mfrom\u001b[0m \u001b[0mneuralprophet\u001b[0m \u001b[1;32mimport\u001b[0m \u001b[0mtime_net\u001b[0m\u001b[1;33m\u001b[0m\u001b[1;33m\u001b[0m\u001b[0m\n\u001b[0;32m     13\u001b[0m \u001b[1;32mfrom\u001b[0m \u001b[0mneuralprophet\u001b[0m \u001b[1;32mimport\u001b[0m \u001b[0mtime_dataset\u001b[0m\u001b[1;33m\u001b[0m\u001b[1;33m\u001b[0m\u001b[0m\n",
      "\u001b[1;32m~\\anaconda3\\envs\\learn-env\\lib\\site-packages\\neuralprophet\\configure.py\u001b[0m in \u001b[0;36m<module>\u001b[1;34m\u001b[0m\n\u001b[0;32m     10\u001b[0m \u001b[1;32mimport\u001b[0m \u001b[0mtypes\u001b[0m\u001b[1;33m\u001b[0m\u001b[1;33m\u001b[0m\u001b[0m\n\u001b[0;32m     11\u001b[0m \u001b[1;33m\u001b[0m\u001b[0m\n\u001b[1;32m---> 12\u001b[1;33m \u001b[1;32mfrom\u001b[0m \u001b[0mneuralprophet\u001b[0m \u001b[1;32mimport\u001b[0m \u001b[0mutils_torch\u001b[0m\u001b[1;33m,\u001b[0m \u001b[0mutils\u001b[0m\u001b[1;33m,\u001b[0m \u001b[0mdf_utils\u001b[0m\u001b[1;33m\u001b[0m\u001b[1;33m\u001b[0m\u001b[0m\n\u001b[0m\u001b[0;32m     13\u001b[0m \u001b[1;33m\u001b[0m\u001b[0m\n\u001b[0;32m     14\u001b[0m \u001b[0mlog\u001b[0m \u001b[1;33m=\u001b[0m \u001b[0mlogging\u001b[0m\u001b[1;33m.\u001b[0m\u001b[0mgetLogger\u001b[0m\u001b[1;33m(\u001b[0m\u001b[1;34m\"NP.config\"\u001b[0m\u001b[1;33m)\u001b[0m\u001b[1;33m\u001b[0m\u001b[1;33m\u001b[0m\u001b[0m\n",
      "\u001b[1;32m~\\anaconda3\\envs\\learn-env\\lib\\site-packages\\neuralprophet\\utils_torch.py\u001b[0m in \u001b[0;36m<module>\u001b[1;34m\u001b[0m\n\u001b[0;32m      6\u001b[0m \u001b[1;32mfrom\u001b[0m \u001b[0mtorch_lr_finder\u001b[0m \u001b[1;32mimport\u001b[0m \u001b[0mLRFinder\u001b[0m\u001b[1;33m\u001b[0m\u001b[1;33m\u001b[0m\u001b[0m\n\u001b[0;32m      7\u001b[0m \u001b[1;33m\u001b[0m\u001b[0m\n\u001b[1;32m----> 8\u001b[1;33m \u001b[1;32mfrom\u001b[0m \u001b[0mneuralprophet\u001b[0m \u001b[1;32mimport\u001b[0m \u001b[0mutils\u001b[0m\u001b[1;33m\u001b[0m\u001b[1;33m\u001b[0m\u001b[0m\n\u001b[0m\u001b[0;32m      9\u001b[0m \u001b[1;33m\u001b[0m\u001b[0m\n\u001b[0;32m     10\u001b[0m \u001b[0mlog\u001b[0m \u001b[1;33m=\u001b[0m \u001b[0mlogging\u001b[0m\u001b[1;33m.\u001b[0m\u001b[0mgetLogger\u001b[0m\u001b[1;33m(\u001b[0m\u001b[1;34m\"NP.utils_torch\"\u001b[0m\u001b[1;33m)\u001b[0m\u001b[1;33m\u001b[0m\u001b[1;33m\u001b[0m\u001b[0m\n",
      "\u001b[1;32m~\\anaconda3\\envs\\learn-env\\lib\\site-packages\\neuralprophet\\utils.py\u001b[0m in \u001b[0;36m<module>\u001b[1;34m\u001b[0m\n\u001b[0;32m      6\u001b[0m \u001b[1;32mimport\u001b[0m \u001b[0mtorch\u001b[0m\u001b[1;33m\u001b[0m\u001b[1;33m\u001b[0m\u001b[0m\n\u001b[0;32m      7\u001b[0m \u001b[1;32mfrom\u001b[0m \u001b[0mcollections\u001b[0m \u001b[1;32mimport\u001b[0m \u001b[0mOrderedDict\u001b[0m\u001b[1;33m\u001b[0m\u001b[1;33m\u001b[0m\u001b[0m\n\u001b[1;32m----> 8\u001b[1;33m \u001b[1;32mfrom\u001b[0m \u001b[0mneuralprophet\u001b[0m \u001b[1;32mimport\u001b[0m \u001b[0mhdays\u001b[0m \u001b[1;32mas\u001b[0m \u001b[0mhdays_part2\u001b[0m\u001b[1;33m\u001b[0m\u001b[1;33m\u001b[0m\u001b[0m\n\u001b[0m\u001b[0;32m      9\u001b[0m \u001b[1;32mimport\u001b[0m \u001b[0mholidays\u001b[0m \u001b[1;32mas\u001b[0m \u001b[0mpyholidays\u001b[0m\u001b[1;33m\u001b[0m\u001b[1;33m\u001b[0m\u001b[0m\n\u001b[0;32m     10\u001b[0m \u001b[1;32mimport\u001b[0m \u001b[0mwarnings\u001b[0m\u001b[1;33m\u001b[0m\u001b[1;33m\u001b[0m\u001b[0m\n",
      "\u001b[1;32m~\\anaconda3\\envs\\learn-env\\lib\\site-packages\\neuralprophet\\hdays.py\u001b[0m in \u001b[0;36m<module>\u001b[1;34m\u001b[0m\n\u001b[0;32m      6\u001b[0m \u001b[1;32mfrom\u001b[0m \u001b[0mlunarcalendar\u001b[0m \u001b[1;32mimport\u001b[0m \u001b[0mLunar\u001b[0m\u001b[1;33m,\u001b[0m \u001b[0mConverter\u001b[0m\u001b[1;33m\u001b[0m\u001b[1;33m\u001b[0m\u001b[0m\n\u001b[0;32m      7\u001b[0m \u001b[1;33m\u001b[0m\u001b[0m\n\u001b[1;32m----> 8\u001b[1;33m \u001b[1;32mfrom\u001b[0m \u001b[0mholidays\u001b[0m \u001b[1;32mimport\u001b[0m \u001b[0mWEEKEND\u001b[0m\u001b[1;33m,\u001b[0m \u001b[0mHolidayBase\u001b[0m\u001b[1;33m,\u001b[0m \u001b[0mTurkey\u001b[0m\u001b[1;33m\u001b[0m\u001b[1;33m\u001b[0m\u001b[0m\n\u001b[0m\u001b[0;32m      9\u001b[0m \u001b[1;32mfrom\u001b[0m \u001b[0mdateutil\u001b[0m\u001b[1;33m.\u001b[0m\u001b[0measter\u001b[0m \u001b[1;32mimport\u001b[0m \u001b[0measter\u001b[0m\u001b[1;33m,\u001b[0m \u001b[0mEASTER_ORTHODOX\u001b[0m\u001b[1;33m\u001b[0m\u001b[1;33m\u001b[0m\u001b[0m\n\u001b[0;32m     10\u001b[0m \u001b[1;32mfrom\u001b[0m \u001b[0mdateutil\u001b[0m\u001b[1;33m.\u001b[0m\u001b[0mrelativedelta\u001b[0m \u001b[1;32mimport\u001b[0m \u001b[0mrelativedelta\u001b[0m \u001b[1;32mas\u001b[0m \u001b[0mrd\u001b[0m\u001b[1;33m\u001b[0m\u001b[1;33m\u001b[0m\u001b[0m\n",
      "\u001b[1;32m~\\anaconda3\\envs\\learn-env\\lib\\site-packages\\holidays\\__init__.py\u001b[0m in \u001b[0;36m<module>\u001b[1;34m\u001b[0m\n\u001b[0;32m      9\u001b[0m \u001b[1;31m#  Website: https://github.com/dr-prodigy/python-holidays\u001b[0m\u001b[1;33m\u001b[0m\u001b[1;33m\u001b[0m\u001b[1;33m\u001b[0m\u001b[0m\n\u001b[0;32m     10\u001b[0m \u001b[1;31m#  License: MIT (see LICENSE file)\u001b[0m\u001b[1;33m\u001b[0m\u001b[1;33m\u001b[0m\u001b[1;33m\u001b[0m\u001b[0m\n\u001b[1;32m---> 11\u001b[1;33m \u001b[1;32mfrom\u001b[0m \u001b[0mholidays\u001b[0m\u001b[1;33m.\u001b[0m\u001b[0mcountries\u001b[0m \u001b[1;32mimport\u001b[0m \u001b[1;33m*\u001b[0m\u001b[1;33m\u001b[0m\u001b[1;33m\u001b[0m\u001b[0m\n\u001b[0m\u001b[0;32m     12\u001b[0m \u001b[1;32mfrom\u001b[0m \u001b[0mholidays\u001b[0m\u001b[1;33m.\u001b[0m\u001b[0mfinancial\u001b[0m \u001b[1;32mimport\u001b[0m \u001b[1;33m*\u001b[0m\u001b[1;33m\u001b[0m\u001b[1;33m\u001b[0m\u001b[0m\n\u001b[0;32m     13\u001b[0m \u001b[1;32mfrom\u001b[0m \u001b[0mholidays\u001b[0m\u001b[1;33m.\u001b[0m\u001b[0mconstants\u001b[0m \u001b[1;32mimport\u001b[0m \u001b[0mMON\u001b[0m\u001b[1;33m,\u001b[0m \u001b[0mTUE\u001b[0m\u001b[1;33m,\u001b[0m \u001b[0mWED\u001b[0m\u001b[1;33m,\u001b[0m \u001b[0mTHU\u001b[0m\u001b[1;33m,\u001b[0m \u001b[0mFRI\u001b[0m\u001b[1;33m,\u001b[0m \u001b[0mSAT\u001b[0m\u001b[1;33m,\u001b[0m \u001b[0mSUN\u001b[0m\u001b[1;33m,\u001b[0m \u001b[0mWEEKEND\u001b[0m\u001b[1;33m\u001b[0m\u001b[1;33m\u001b[0m\u001b[0m\n",
      "\u001b[1;32m~\\anaconda3\\envs\\learn-env\\lib\\site-packages\\holidays\\countries\\__init__.py\u001b[0m in \u001b[0;36m<module>\u001b[1;34m\u001b[0m\n\u001b[0;32m     50\u001b[0m \u001b[1;32mfrom\u001b[0m \u001b[1;33m.\u001b[0m\u001b[0misle_of_man\u001b[0m \u001b[1;32mimport\u001b[0m \u001b[0mIsleOfMan\u001b[0m\u001b[1;33m,\u001b[0m \u001b[0mIM\u001b[0m\u001b[1;33m\u001b[0m\u001b[1;33m\u001b[0m\u001b[0m\n\u001b[0;32m     51\u001b[0m \u001b[1;32mfrom\u001b[0m \u001b[1;33m.\u001b[0m\u001b[0mitaly\u001b[0m \u001b[1;32mimport\u001b[0m \u001b[0mItaly\u001b[0m\u001b[1;33m,\u001b[0m \u001b[0mIT\u001b[0m\u001b[1;33m,\u001b[0m \u001b[0mITA\u001b[0m\u001b[1;33m\u001b[0m\u001b[1;33m\u001b[0m\u001b[0m\n\u001b[1;32m---> 52\u001b[1;33m \u001b[1;32mfrom\u001b[0m \u001b[1;33m.\u001b[0m\u001b[0misrael\u001b[0m \u001b[1;32mimport\u001b[0m \u001b[0mIsrael\u001b[0m\u001b[1;33m,\u001b[0m \u001b[0mIL\u001b[0m\u001b[1;33m,\u001b[0m \u001b[0mISR\u001b[0m\u001b[1;33m\u001b[0m\u001b[1;33m\u001b[0m\u001b[0m\n\u001b[0m\u001b[0;32m     53\u001b[0m \u001b[1;32mfrom\u001b[0m \u001b[1;33m.\u001b[0m\u001b[0mjamaica\u001b[0m \u001b[1;32mimport\u001b[0m \u001b[0mJamaica\u001b[0m\u001b[1;33m,\u001b[0m \u001b[0mJM\u001b[0m\u001b[1;33m,\u001b[0m \u001b[0mJAM\u001b[0m\u001b[1;33m\u001b[0m\u001b[1;33m\u001b[0m\u001b[0m\n\u001b[0;32m     54\u001b[0m \u001b[1;32mfrom\u001b[0m \u001b[1;33m.\u001b[0m\u001b[0mjapan\u001b[0m \u001b[1;32mimport\u001b[0m \u001b[0mJapan\u001b[0m\u001b[1;33m,\u001b[0m \u001b[0mJP\u001b[0m\u001b[1;33m,\u001b[0m \u001b[0mJPN\u001b[0m\u001b[1;33m\u001b[0m\u001b[1;33m\u001b[0m\u001b[0m\n",
      "\u001b[1;32m~\\anaconda3\\envs\\learn-env\\lib\\site-packages\\holidays\\countries\\israel.py\u001b[0m in \u001b[0;36m<module>\u001b[1;34m\u001b[0m\n\u001b[0;32m     12\u001b[0m \u001b[1;33m\u001b[0m\u001b[0m\n\u001b[0;32m     13\u001b[0m \u001b[1;32mfrom\u001b[0m \u001b[0mconvertdate\u001b[0m \u001b[1;32mimport\u001b[0m \u001b[0mgregorian\u001b[0m\u001b[1;33m,\u001b[0m \u001b[0mhebrew\u001b[0m\u001b[1;33m\u001b[0m\u001b[1;33m\u001b[0m\u001b[0m\n\u001b[1;32m---> 14\u001b[1;33m from convertdate.holidays import (\n\u001b[0m\u001b[0;32m     15\u001b[0m     \u001b[0mhanukkah\u001b[0m\u001b[1;33m,\u001b[0m\u001b[1;33m\u001b[0m\u001b[1;33m\u001b[0m\u001b[0m\n\u001b[0;32m     16\u001b[0m     \u001b[0mlag_baomer\u001b[0m\u001b[1;33m,\u001b[0m\u001b[1;33m\u001b[0m\u001b[1;33m\u001b[0m\u001b[0m\n",
      "\u001b[1;31mImportError\u001b[0m: cannot import name 'lag_baomer' from 'convertdate.holidays' (C:\\Users\\booos\\anaconda3\\envs\\learn-env\\lib\\site-packages\\convertdate\\holidays.py)"
     ]
    }
   ],
   "source": [
    "import pandas as pd \n",
    "from neuralprophet import NeuralProphet"
   ]
  },
  {
   "cell_type": "code",
   "execution_count": null,
   "metadata": {},
   "outputs": [],
   "source": []
  },
  {
   "cell_type": "code",
   "execution_count": null,
   "metadata": {},
   "outputs": [],
   "source": []
  }
 ],
 "metadata": {
  "kernelspec": {
   "display_name": "Python 3",
   "language": "python",
   "name": "python3"
  },
  "language_info": {
   "codemirror_mode": {
    "name": "ipython",
    "version": 3
   },
   "file_extension": ".py",
   "mimetype": "text/x-python",
   "name": "python",
   "nbconvert_exporter": "python",
   "pygments_lexer": "ipython3",
   "version": "3.8.5"
  }
 },
 "nbformat": 4,
 "nbformat_minor": 4
}
